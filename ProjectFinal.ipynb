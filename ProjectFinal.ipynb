{
  "cells": [
    {
      "cell_type": "markdown",
      "metadata": {
        "id": "view-in-github",
        "colab_type": "text"
      },
      "source": [
        "<a href=\"https://colab.research.google.com/github/saket1923/Multiple-Disease-Prediction-Model/blob/main/ProjectFinal.ipynb\" target=\"_parent\"><img src=\"https://colab.research.google.com/assets/colab-badge.svg\" alt=\"Open In Colab\"/></a>"
      ]
    },
    {
      "cell_type": "code",
      "execution_count": 1,
      "metadata": {
        "id": "I1zSq_Y5bqFC"
      },
      "outputs": [],
      "source": [
        "# Install required libraries\n",
        "!pip install gradio scikit-learn pandas numpy matplotlib seaborn plotly -q\n",
        "\n"
      ]
    },
    {
      "cell_type": "code",
      "execution_count": 2,
      "metadata": {
        "id": "BraNjrIcbwz0"
      },
      "outputs": [],
      "source": [
        "# Import necessary libraries\n",
        "import pandas as pd\n",
        "import numpy as np\n",
        "from sklearn.model_selection import train_test_split, cross_val_score\n",
        "from sklearn.ensemble import RandomForestClassifier\n",
        "from sklearn.multioutput import MultiOutputClassifier\n",
        "from sklearn.metrics import accuracy_score, classification_report\n",
        "import gradio as gr\n",
        "import traceback\n",
        "import matplotlib.pyplot as plt\n",
        "import seaborn as sns\n",
        "import plotly.express as px\n",
        "import logging\n",
        "\n"
      ]
    },
    {
      "cell_type": "code",
      "execution_count": 3,
      "metadata": {
        "id": "51Qb3-ohcFm_"
      },
      "outputs": [],
      "source": [
        "# Configure logging for debugging\n",
        "logging.basicConfig(level=logging.DEBUG)\n"
      ]
    },
    {
      "cell_type": "code",
      "execution_count": 4,
      "metadata": {
        "id": "3IvwFq6GcJZB"
      },
      "outputs": [],
      "source": [
        "# Global variables\n",
        "global_model = None\n",
        "evaluation_results = \"\"\n",
        "feature_names = ['Age', 'BMI', 'BloodPressure', 'Cholesterol', 'Glucose',\n",
        "                 'Exercise', 'Smoking', 'FamilyHistory']\n",
        "data_summary = None\n"
      ]
    },
    {
      "cell_type": "code",
      "execution_count": 5,
      "metadata": {
        "id": "XBYvm-Y-cP58"
      },
      "outputs": [],
      "source": [
        "# Enhanced training function with corrected output handling\n",
        "def load_and_train_model(file, progress=gr.Progress()):\n",
        "    global global_model, evaluation_results, data_summary\n",
        "    try:\n",
        "        progress(0, \"Reading CSV file...\")\n",
        "        logging.debug(f\"File input received: {file}\")\n",
        "        if file is None or not hasattr(file, 'name'):\n",
        "            return \"Error: Please upload a valid CSV file\", None\n",
        "\n",
        "        df = pd.read_csv(file.name)\n",
        "\n",
        "        required_columns = feature_names + ['Diabetes', 'HeartDisease', 'Stroke']\n",
        "        missing_columns = [col for col in required_columns if col not in df.columns]\n",
        "        if missing_columns:\n",
        "            return f\"Error: Missing columns: {', '.join(missing_columns)}\", None\n",
        "\n",
        "        progress(0.2, \"Preparing data...\")\n",
        "        X = df[feature_names]\n",
        "        y = df[['Diabetes', 'HeartDisease', 'Stroke']]\n",
        "\n",
        "        # Data summary\n",
        "        data_summary = f\"Dataset Size: {len(df)} records\\n\"\n",
        "        data_summary += f\"Features: {', '.join(feature_names)}\\n\"\n",
        "        data_summary += \"Target Variables: Diabetes, HeartDisease, Stroke\\n\"\n",
        "\n",
        "        if len(df) > 10000:\n",
        "            df = df.sample(n=10000, random_state=42)\n",
        "            X = X.loc[df.index]\n",
        "            y = y.loc[df.index]\n",
        "\n",
        "        progress(0.4, \"Splitting data...\")\n",
        "        X_train, X_test, y_train, y_test = train_test_split(X, y, test_size=0.2, random_state=42)\n",
        "\n",
        "        progress(0.6, \"Training model...\")\n",
        "        rf = RandomForestClassifier(n_estimators=100, max_depth=15, n_jobs=-1, random_state=42)\n",
        "        model = MultiOutputClassifier(rf)\n",
        "        model.fit(X_train, y_train)\n",
        "\n",
        "        # Feature importance visualization\n",
        "        feature_importance_fig = plt.figure(figsize=(10, 6))\n",
        "        importances = np.mean([est.feature_importances_ for est in model.estimators_], axis=0)\n",
        "        sns.barplot(x=importances, y=feature_names)\n",
        "        plt.title(\"Feature Importance Across All Predictions\")\n",
        "        plt.xlabel(\"Importance Score\")\n",
        "\n",
        "        progress(0.8, \"Evaluating model...\")\n",
        "        y_pred = model.predict(X_test)\n",
        "        cv_scores = cross_val_score(model, X, y, cv=5)\n",
        "\n",
        "        eval_results = f\"Cross-validation Score: {cv_scores.mean():.2f} (±{cv_scores.std()*2:.2f})\\n\\n\"\n",
        "        for i, disease in enumerate(['Diabetes', 'HeartDisease', 'Stroke']):\n",
        "            acc = accuracy_score(y_test.iloc[:, i], y_pred[:, i])\n",
        "            eval_results += f\"\\n**{disease} Prediction**\\n\"\n",
        "            eval_results += f\"Accuracy: {acc:.2f}\\n\"\n",
        "            eval_results += f\"Detailed Report:\\n{classification_report(y_test.iloc[:, i], y_pred[:, i])}\\n\"\n",
        "\n",
        "        global_model = model\n",
        "        evaluation_results = eval_results\n",
        "        progress(1.0, \"Complete!\")\n",
        "        return data_summary + \"\\nModel trained successfully!\\n\" + eval_results, feature_importance_fig\n",
        "\n",
        "    except Exception as e:\n",
        "        logging.error(f\"Training error: {str(e)}\")\n",
        "        return f\"Error during training: {str(e)}\\n{traceback.format_exc()}\", None\n"
      ]
    },
    {
      "cell_type": "code",
      "execution_count": 6,
      "metadata": {
        "id": "ImqgXxu1cVkg"
      },
      "outputs": [],
      "source": [
        "# Enhanced prediction function with corrected output handling\n",
        "def predict_disease(age, bmi, blood_pressure, cholesterol, glucose, exercise, smoking, family_history):\n",
        "    if global_model is None:\n",
        "        return \"⚠️ Please train a model first\", None, \"⚠️ No suggestions available\", \"⚠️ No risk summary available\"\n",
        "\n",
        "    try:\n",
        "        input_data = pd.DataFrame(\n",
        "            [[age, bmi, blood_pressure, cholesterol, glucose, exercise, int(smoking), int(family_history)]],\n",
        "            columns=feature_names\n",
        "        )\n",
        "        prediction = global_model.predict(input_data)[0]\n",
        "        prob = global_model.predict_proba(input_data)\n",
        "\n",
        "        # Detailed prediction results\n",
        "        result = \"### Health Risk Assessment\\n\"\n",
        "        diseases = ['Diabetes', 'Heart Disease', 'Stroke']\n",
        "        probabilities = [prob[i][0, 1] for i in range(3)]\n",
        "\n",
        "        for i, disease in enumerate(diseases):\n",
        "            pred = prediction[i]\n",
        "            prob_positive = probabilities[i]\n",
        "            status = \"High Risk\" if pred == 1 else \"Low Risk\"\n",
        "            color = \"#e74c3c\" if pred == 1 else \"#2ecc71\"\n",
        "            result += f\"- **{disease}**: <span style='color: {color};'>{status}</span> (Confidence: {prob_positive:.2%})\\n\"\n",
        "\n",
        "        # Interactive Plotly visualization\n",
        "        fig = px.bar(\n",
        "            x=diseases,\n",
        "            y=probabilities,\n",
        "            text=[f'{p:.2%}' for p in probabilities],\n",
        "            title=\"Disease Risk Probabilities\",\n",
        "            labels={'y': 'Probability', 'x': 'Disease'},\n",
        "            color=probabilities,\n",
        "            color_continuous_scale='RdYlGn_r'\n",
        "        )\n",
        "        fig.update_traces(textposition='auto')\n",
        "        fig.update_layout(showlegend=False, height=400)\n",
        "\n",
        "        # Detailed health suggestions\n",
        "        suggestions = \"### Personalized Health Recommendations\\n\"\n",
        "        risk_factors = []\n",
        "\n",
        "        if prediction[0] == 1 or glucose > 140 or bmi > 30:\n",
        "            suggestions += \"- **Diabetes Prevention**: Monitor blood glucose, reduce refined carbs, aim for BMI < 25\\n\"\n",
        "            risk_factors.append(\"Diabetes\")\n",
        "        if prediction[1] == 1 or blood_pressure > 140 or cholesterol > 200:\n",
        "            suggestions += \"- **Heart Health**: Reduce sodium (<2300mg/day), increase omega-3 intake, regular cardio\\n\"\n",
        "            risk_factors.append(\"Heart Disease\")\n",
        "        if prediction[2] == 1 or (blood_pressure > 140 and smoking):\n",
        "            suggestions += \"- **Stroke Prevention**: Quit smoking immediately, monitor BP, maintain healthy weight\\n\"\n",
        "            risk_factors.append(\"Stroke\")\n",
        "        if smoking:\n",
        "            suggestions += \"- **Smoking**: Join cessation program, consider nicotine replacement therapy\\n\"\n",
        "        if exercise < 3:\n",
        "            suggestions += f\"- **Activity**: Increase to {max(3, exercise+1)} hours/week of moderate exercise\\n\"\n",
        "        if not risk_factors:\n",
        "            suggestions += \"- **Maintenance**: Continue healthy habits, annual check-ups recommended\\n\"\n",
        "\n",
        "        # Risk factor summary\n",
        "        risk_summary = f\"### Risk Factor Summary\\nIdentified risks: {', '.join(risk_factors) if risk_factors else 'None'}\\n\"\n",
        "\n",
        "        return result, fig, suggestions, risk_summary\n",
        "\n",
        "    except Exception as e:\n",
        "        logging.error(f\"Prediction error: {str(e)}\")\n",
        "        return f\"⚠️ Prediction error: {str(e)}\", None, f\"⚠️ Error: {str(e)}\", f\"⚠️ Error: {str(e)}\"\n"
      ]
    },
    {
      "cell_type": "code",
      "execution_count": 7,
      "metadata": {
        "id": "G-_vOQqtcaf6"
      },
      "outputs": [],
      "source": [
        "# Advanced UI Theme\n",
        "theme = gr.themes.Default(\n",
        "    primary_hue=\"blue\",\n",
        "    secondary_hue=\"gray\",\n",
        "    neutral_hue=\"slate\",\n",
        "    radius_size=\"lg\",\n",
        "    text_size=\"md\",\n",
        ")\n"
      ]
    },
    {
      "cell_type": "code",
      "execution_count": 8,
      "metadata": {
        "id": "TJR-0dn0cf2L"
      },
      "outputs": [],
      "source": [
        "# Create enhanced Gradio interface\n",
        "with gr.Blocks(theme=theme, title=\"Health Risk Prediction Suite\") as interface:\n",
        "    gr.Markdown(\n",
        "        \"\"\"\n",
        "        # 🩺 Health Risk Prediction Suite\n",
        "        AI-powered disease risk assessment and prevention tool\n",
        "        \"\"\",\n",
        "        elem_classes=\"header\"\n",
        "    )\n",
        "\n",
        "    with gr.Tabs():\n",
        "        # Training Tab\n",
        "        with gr.Tab(\"📊 Model Training\"):\n",
        "            gr.Markdown(\"## Model Training & Data Analysis\", elem_classes=\"section-title\")\n",
        "            with gr.Row():\n",
        "                with gr.Column(scale=1):\n",
        "                    file_input = gr.File(label=\"Upload Health Data (CSV)\", file_types=['.csv'])\n",
        "                    train_button = gr.Button(\"Train Model\", variant=\"primary\", size=\"lg\")\n",
        "                with gr.Column(scale=2):\n",
        "                    train_output = gr.Markdown(label=\"Training Results & Metrics\")\n",
        "                    feature_plot = gr.Plot(label=\"Feature Importance\")\n",
        "\n",
        "            train_button.click(\n",
        "                fn=load_and_train_model,\n",
        "                inputs=file_input,\n",
        "                outputs=[train_output, feature_plot]\n",
        "            )\n",
        "\n",
        "        # Prediction Tab\n",
        "        with gr.Tab(\"🔍 Risk Assessment\"):\n",
        "            gr.Markdown(\"## Personal Health Risk Assessment\", elem_classes=\"section-title\")\n",
        "            with gr.Row():\n",
        "                with gr.Column(scale=1):\n",
        "                    with gr.Accordion(\"Patient Data Input\", open=True):\n",
        "                        age = gr.Slider(20, 100, step=1, label=\"Age\", info=\"Years\")\n",
        "                        bmi = gr.Slider(15, 50, step=0.1, label=\"BMI\", info=\"kg/m²\")\n",
        "                        bp = gr.Slider(80, 200, step=1, label=\"Blood Pressure\", info=\"mmHg\")\n",
        "                        chol = gr.Slider(100, 300, step=1, label=\"Cholesterol\", info=\"mg/dL\")\n",
        "                        gluc = gr.Slider(50, 200, step=1, label=\"Glucose\", info=\"mg/dL\")\n",
        "                        exer = gr.Slider(0, 7, step=0.5, label=\"Exercise\", info=\"Hours/week\")\n",
        "                        smoke = gr.Checkbox(label=\"Smoking\", info=\"Current smoker?\")\n",
        "                        fam = gr.Checkbox(label=\"Family History\", info=\"Of chronic diseases?\")\n",
        "                        predict_button = gr.Button(\"Assess Risks\", variant=\"primary\", size=\"lg\")\n",
        "\n",
        "                with gr.Column(scale=2):\n",
        "                    with gr.Tabs():  # Replaced TabbedInterface with Tabs\n",
        "                        with gr.TabItem(\"Results\"):\n",
        "                            prediction_text = gr.Markdown()\n",
        "                            prediction_plot = gr.Plot(label=\"Risk Visualization\")\n",
        "                        with gr.TabItem(\"Recommendations\"):\n",
        "                            suggestion_text = gr.Markdown()\n",
        "                            risk_summary = gr.Markdown()\n",
        "\n",
        "            predict_button.click(\n",
        "                fn=predict_disease,\n",
        "                inputs=[age, bmi, bp, chol, gluc, exer, smoke, fam],\n",
        "                outputs=[prediction_text, prediction_plot, suggestion_text, risk_summary]\n",
        "            )\n",
        "\n",
        "    # Custom CSS\n",
        "    interface.css = \"\"\"\n",
        "    .header { text-align: center; color: #1a3c5e; padding: 20px; background: #f0f6ff; border-radius: 10px; }\n",
        "    .section-title { color: #2c5282; border-bottom: 2px solid #bee3f8; padding-bottom: 5px; }\n",
        "    button { transition: all 0.3s ease; }\n",
        "    button:hover { transform: scale(1.05); }\n",
        "    .gr-accordion { background: #f7fafc; border-radius: 8px; padding: 15px; }\n",
        "    .gr-plot { border: 1px solid #e2e8f0; border-radius: 8px; padding: 10px; }\n",
        "    \"\"\"\n"
      ]
    },
    {
      "cell_type": "code",
      "execution_count": null,
      "metadata": {
        "colab": {
          "background_save": true,
          "base_uri": "https://localhost:8080/",
          "height": 611
        },
        "id": "SwpbxaBecjCc",
        "outputId": "92fc56f5-7be2-4920-8945-09461fd3b945"
      },
      "outputs": [
        {
          "output_type": "stream",
          "name": "stdout",
          "text": [
            "Colab notebook detected. This cell will run indefinitely so that you can see errors and logs. To turn off, set debug=False in launch().\n",
            "* Running on public URL: https://7aafabf8285187ebac.gradio.live\n",
            "\n",
            "This share link expires in 1 week. For free permanent hosting and GPU upgrades, run `gradio deploy` from the terminal in the working directory to deploy to Hugging Face Spaces (https://huggingface.co/spaces)\n"
          ]
        },
        {
          "output_type": "display_data",
          "data": {
            "text/plain": [
              "<IPython.core.display.HTML object>"
            ],
            "text/html": [
              "<div><iframe src=\"https://7aafabf8285187ebac.gradio.live\" width=\"100%\" height=\"500\" allow=\"autoplay; camera; microphone; clipboard-read; clipboard-write;\" frameborder=\"0\" allowfullscreen></iframe></div>"
            ]
          },
          "metadata": {}
        }
      ],
      "source": [
        "# Launch with additional options\n",
        "interface.launch(\n",
        "    debug=True,\n",
        "    show_error=True,\n",
        "    favicon_path=\"https://cdn-icons-png.flaticon.com/512/684/684908.png\",\n",
        "    share=True\n",
        ")"
      ]
    }
  ],
  "metadata": {
    "colab": {
      "provenance": [],
      "include_colab_link": true
    },
    "kernelspec": {
      "display_name": "Python 3",
      "name": "python3"
    },
    "language_info": {
      "name": "python"
    }
  },
  "nbformat": 4,
  "nbformat_minor": 0
}